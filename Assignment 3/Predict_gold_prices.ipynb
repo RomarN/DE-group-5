{
 "cells": [
  {
   "cell_type": "code",
   "execution_count": 7,
   "metadata": {},
   "outputs": [
    {
     "name": "stdout",
     "output_type": "stream",
     "text": [
      "Collecting gcsfs\n",
      "  Downloading https://files.pythonhosted.org/packages/85/75/3d669945d41e5aedd5c4333b9dc6192b7839d2bafd04b75b8222d4e92ae0/gcsfs-0.7.1-py2.py3-none-any.whl\n",
      "Requirement already satisfied: fsspec>=0.8.0 in d:\\anaconda3\\lib\\site-packages (from gcsfs) (0.8.0)\n",
      "Requirement already satisfied: google-auth-oauthlib in d:\\anaconda3\\lib\\site-packages (from gcsfs) (0.4.1)\n",
      "Requirement already satisfied: google-auth>=1.2 in d:\\anaconda3\\lib\\site-packages (from gcsfs) (1.22.1)\n",
      "Requirement already satisfied: decorator in d:\\anaconda3\\lib\\site-packages (from gcsfs) (4.4.0)\n",
      "Collecting aiohttp (from gcsfs)\n",
      "  Downloading https://files.pythonhosted.org/packages/68/4a/221ace4d2283cc3d3b15e9621bb040d239dfea1b3da798ca33a88f8acfc8/aiohttp-3.7.3-cp37-cp37m-win_amd64.whl (629kB)\n",
      "Requirement already satisfied: requests in d:\\anaconda3\\lib\\site-packages (from gcsfs) (2.24.0)\n",
      "Requirement already satisfied: requests-oauthlib>=0.7.0 in d:\\anaconda3\\lib\\site-packages (from google-auth-oauthlib->gcsfs) (1.3.0)\n",
      "Requirement already satisfied: setuptools>=40.3.0 in d:\\anaconda3\\lib\\site-packages (from google-auth>=1.2->gcsfs) (50.3.2)\n",
      "Requirement already satisfied: rsa<5,>=3.1.4; python_version >= \"3.5\" in d:\\anaconda3\\lib\\site-packages (from google-auth>=1.2->gcsfs) (4.6)\n",
      "Requirement already satisfied: pyasn1-modules>=0.2.1 in d:\\anaconda3\\lib\\site-packages (from google-auth>=1.2->gcsfs) (0.2.8)\n",
      "Requirement already satisfied: cachetools<5.0,>=2.0.0 in d:\\anaconda3\\lib\\site-packages (from google-auth>=1.2->gcsfs) (3.1.1)\n",
      "Requirement already satisfied: six>=1.9.0 in d:\\anaconda3\\lib\\site-packages (from google-auth>=1.2->gcsfs) (1.15.0)\n",
      "Collecting async-timeout<4.0,>=3.0 (from aiohttp->gcsfs)\n",
      "  Downloading https://files.pythonhosted.org/packages/e1/1e/5a4441be21b0726c4464f3f23c8b19628372f606755a9d2e46c187e65ec4/async_timeout-3.0.1-py3-none-any.whl\n",
      "Collecting multidict<7.0,>=4.5 (from aiohttp->gcsfs)\n",
      "  Downloading https://files.pythonhosted.org/packages/11/fd/e6c4bd37df386d97da3b366c29c0523bc4d83fd2e1ba812c48b144eb523f/multidict-5.0.2-cp37-cp37m-win_amd64.whl (48kB)\n",
      "Requirement already satisfied: chardet<4.0,>=2.0 in d:\\anaconda3\\lib\\site-packages (from aiohttp->gcsfs) (3.0.4)\n",
      "Requirement already satisfied: typing-extensions>=3.6.5 in d:\\anaconda3\\lib\\site-packages (from aiohttp->gcsfs) (3.7.4.3)\n",
      "Collecting yarl<2.0,>=1.0 (from aiohttp->gcsfs)\n",
      "  Downloading https://files.pythonhosted.org/packages/ea/53/3c466bee8503325c2cb182f5c7152a775b1a8c10e4d15b7c9cf9a5bf18ab/yarl-1.6.3-cp37-cp37m-win_amd64.whl (124kB)\n",
      "Requirement already satisfied: attrs>=17.3.0 in d:\\anaconda3\\lib\\site-packages (from aiohttp->gcsfs) (19.1.0)\n",
      "Requirement already satisfied: idna<3,>=2.5 in d:\\anaconda3\\lib\\site-packages (from requests->gcsfs) (2.8)\n",
      "Requirement already satisfied: certifi>=2017.4.17 in d:\\anaconda3\\lib\\site-packages (from requests->gcsfs) (2020.6.20)\n",
      "Collecting urllib3!=1.25.0,!=1.25.1,<1.26,>=1.21.1 (from requests->gcsfs)\n",
      "  Downloading https://files.pythonhosted.org/packages/56/aa/4ef5aa67a9a62505db124a5cb5262332d1d4153462eb8fd89c9fa41e5d92/urllib3-1.25.11-py2.py3-none-any.whl (127kB)\n",
      "Requirement already satisfied: oauthlib>=3.0.0 in d:\\anaconda3\\lib\\site-packages (from requests-oauthlib>=0.7.0->google-auth-oauthlib->gcsfs) (3.1.0)\n",
      "Requirement already satisfied: pyasn1>=0.1.3 in d:\\anaconda3\\lib\\site-packages (from rsa<5,>=3.1.4; python_version >= \"3.5\"->google-auth>=1.2->gcsfs) (0.4.8)\n",
      "Installing collected packages: async-timeout, multidict, yarl, aiohttp, gcsfs, urllib3\n",
      "  Found existing installation: urllib3 1.26.2\n",
      "    Uninstalling urllib3-1.26.2:\n",
      "      Successfully uninstalled urllib3-1.26.2\n",
      "Successfully installed aiohttp-3.7.3 async-timeout-3.0.1 gcsfs-0.7.1 multidict-5.0.2 urllib3-1.25.11 yarl-1.6.3\n",
      "Note: you may need to restart the kernel to use updated packages.\n"
     ]
    }
   ],
   "source": [
    "pip install gcsfs"
   ]
  },
  {
   "cell_type": "code",
   "execution_count": 6,
   "metadata": {},
   "outputs": [
    {
     "name": "stderr",
     "output_type": "stream",
     "text": [
      "D:\\Anaconda3\\lib\\site-packages\\requests\\__init__.py:91: RequestsDependencyWarning: urllib3 (1.26.2) or chardet (3.0.4) doesn't match a supported version!\n",
      "  RequestsDependencyWarning)\n"
     ]
    }
   ],
   "source": [
    "import pandas as pd\n",
    "from google.cloud import storage # save the model to GCS"
   ]
  },
  {
   "cell_type": "code",
   "execution_count": 8,
   "metadata": {},
   "outputs": [],
   "source": [
    "# Data stored in GCP, bucket name: 'gold-price-prediction' van TawabG\n",
    "gold_dataset = pd.read_csv(\"gs://gold-price-prediction/gold_dataset.csv\")  "
   ]
  },
  {
   "cell_type": "code",
   "execution_count": 9,
   "metadata": {},
   "outputs": [
    {
     "data": {
      "text/html": [
       "<div>\n",
       "<style scoped>\n",
       "    .dataframe tbody tr th:only-of-type {\n",
       "        vertical-align: middle;\n",
       "    }\n",
       "\n",
       "    .dataframe tbody tr th {\n",
       "        vertical-align: top;\n",
       "    }\n",
       "\n",
       "    .dataframe thead th {\n",
       "        text-align: right;\n",
       "    }\n",
       "</style>\n",
       "<table border=\"1\" class=\"dataframe\">\n",
       "  <thead>\n",
       "    <tr style=\"text-align: right;\">\n",
       "      <th></th>\n",
       "      <th>date</th>\n",
       "      <th>timestamp</th>\n",
       "      <th>metal</th>\n",
       "      <th>exchange</th>\n",
       "      <th>currency</th>\n",
       "      <th>price</th>\n",
       "      <th>prev_close_price</th>\n",
       "      <th>ch</th>\n",
       "      <th>chp</th>\n",
       "    </tr>\n",
       "  </thead>\n",
       "  <tbody>\n",
       "    <tr>\n",
       "      <td>0</td>\n",
       "      <td>2020-01-01T10:30:00.000Z</td>\n",
       "      <td>1.577875e+12</td>\n",
       "      <td>XAU</td>\n",
       "      <td>LBMA</td>\n",
       "      <td>EUR</td>\n",
       "      <td>1355.7059</td>\n",
       "      <td>1355.7059</td>\n",
       "      <td>0.0000</td>\n",
       "      <td>0.0000</td>\n",
       "    </tr>\n",
       "    <tr>\n",
       "      <td>1</td>\n",
       "      <td>2020-01-02T10:30:00.000Z</td>\n",
       "      <td>1.577961e+12</td>\n",
       "      <td>XAU</td>\n",
       "      <td>LBMA</td>\n",
       "      <td>EUR</td>\n",
       "      <td>1358.4830</td>\n",
       "      <td>1360.6718</td>\n",
       "      <td>-2.1889</td>\n",
       "      <td>-0.1611</td>\n",
       "    </tr>\n",
       "    <tr>\n",
       "      <td>2</td>\n",
       "      <td>2020-01-03T10:30:00.000Z</td>\n",
       "      <td>1.578047e+12</td>\n",
       "      <td>XAU</td>\n",
       "      <td>LBMA</td>\n",
       "      <td>EUR</td>\n",
       "      <td>1388.1762</td>\n",
       "      <td>1364.0890</td>\n",
       "      <td>24.0872</td>\n",
       "      <td>1.7352</td>\n",
       "    </tr>\n",
       "    <tr>\n",
       "      <td>3</td>\n",
       "      <td>2020-01-04T10:30:00.000Z</td>\n",
       "      <td>1.578134e+12</td>\n",
       "      <td>XAU</td>\n",
       "      <td>LBMA</td>\n",
       "      <td>EUR</td>\n",
       "      <td>1388.1762</td>\n",
       "      <td>1388.1762</td>\n",
       "      <td>0.0000</td>\n",
       "      <td>0.0000</td>\n",
       "    </tr>\n",
       "    <tr>\n",
       "      <td>4</td>\n",
       "      <td>2020-01-05T10:30:00.000Z</td>\n",
       "      <td>1.578220e+12</td>\n",
       "      <td>XAU</td>\n",
       "      <td>LBMA</td>\n",
       "      <td>EUR</td>\n",
       "      <td>1388.1762</td>\n",
       "      <td>1388.1762</td>\n",
       "      <td>0.0000</td>\n",
       "      <td>0.0000</td>\n",
       "    </tr>\n",
       "  </tbody>\n",
       "</table>\n",
       "</div>"
      ],
      "text/plain": [
       "                       date     timestamp metal exchange currency      price  \\\n",
       "0  2020-01-01T10:30:00.000Z  1.577875e+12   XAU     LBMA      EUR  1355.7059   \n",
       "1  2020-01-02T10:30:00.000Z  1.577961e+12   XAU     LBMA      EUR  1358.4830   \n",
       "2  2020-01-03T10:30:00.000Z  1.578047e+12   XAU     LBMA      EUR  1388.1762   \n",
       "3  2020-01-04T10:30:00.000Z  1.578134e+12   XAU     LBMA      EUR  1388.1762   \n",
       "4  2020-01-05T10:30:00.000Z  1.578220e+12   XAU     LBMA      EUR  1388.1762   \n",
       "\n",
       "   prev_close_price       ch     chp  \n",
       "0         1355.7059   0.0000  0.0000  \n",
       "1         1360.6718  -2.1889 -0.1611  \n",
       "2         1364.0890  24.0872  1.7352  \n",
       "3         1388.1762   0.0000  0.0000  \n",
       "4         1388.1762   0.0000  0.0000  "
      ]
     },
     "execution_count": 9,
     "metadata": {},
     "output_type": "execute_result"
    }
   ],
   "source": [
    "gold_dataset.head()"
   ]
  }
 ],
 "metadata": {
  "environment": {
   "name": "common-cpu.m59",
   "type": "gcloud",
   "uri": "gcr.io/deeplearning-platform-release/base-cpu:m59"
  },
  "kernelspec": {
   "display_name": "Python 3",
   "language": "python",
   "name": "python3"
  },
  "language_info": {
   "codemirror_mode": {
    "name": "ipython",
    "version": 3
   },
   "file_extension": ".py",
   "mimetype": "text/x-python",
   "name": "python",
   "nbconvert_exporter": "python",
   "pygments_lexer": "ipython3",
   "version": "3.7.8"
  }
 },
 "nbformat": 4,
 "nbformat_minor": 4
}
