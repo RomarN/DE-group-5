{
 "cells": [
  {
   "cell_type": "code",
   "execution_count": 1,
   "metadata": {},
   "outputs": [],
   "source": [
    "import pickle"
   ]
  },
  {
   "cell_type": "code",
   "execution_count": 2,
   "metadata": {},
   "outputs": [],
   "source": [
    "filename = 'finalized_model.sav'\n",
    "loaded_model = pickle.load(open(r\"C:\\Users\\romar\\Google Drive\\Master\\DE\\DE-group-5\\model\", 'rb'))"
   ]
  },
  {
   "cell_type": "code",
   "execution_count": 3,
   "metadata": {},
   "outputs": [],
   "source": [
    "from sklearn.svm import SVR\n",
    "import pandas as pd\n",
    "import numpy as np"
   ]
  },
  {
   "cell_type": "code",
   "execution_count": 4,
   "metadata": {},
   "outputs": [],
   "source": [
    "df = pd.read_json('forestfires')\n",
    "df.head()\n",
    "def loadcsv(df): \n",
    "    \n",
    "    #Convert the categorical data into binary values\n",
    "    df_bin = df.join(pd.get_dummies(df.pop('day'))) \n",
    "    df_bin = df_bin.join(pd.get_dummies(df_bin.pop('month')))\n",
    "    df_bin.pop('sun')\n",
    "    df_bin.pop('dec')\n",
    "#     df_bin = df_bin[df_bin['area'] < 3.2]  \n",
    "    # df_bin.loc[df.area > 0, 'area']= 1\n",
    "    #Return the database\n",
    "    return df_bin"
   ]
  },
  {
   "cell_type": "code",
   "execution_count": 5,
   "metadata": {},
   "outputs": [],
   "source": [
    "df = loadcsv(df)\n",
    "y = df.pop('area')\n",
    "X = df"
   ]
  },
  {
   "cell_type": "code",
   "execution_count": 6,
   "metadata": {},
   "outputs": [
    {
     "data": {
      "text/plain": [
       "-0.03615123111976004"
      ]
     },
     "execution_count": 6,
     "metadata": {},
     "output_type": "execute_result"
    }
   ],
   "source": [
    "loaded_model.score(X,y)"
   ]
  },
  {
   "cell_type": "code",
   "execution_count": null,
   "metadata": {},
   "outputs": [],
   "source": []
  }
 ],
 "metadata": {
  "kernelspec": {
   "display_name": "Python 3",
   "language": "python",
   "name": "python3"
  },
  "language_info": {
   "codemirror_mode": {
    "name": "ipython",
    "version": 3
   },
   "file_extension": ".py",
   "mimetype": "text/x-python",
   "name": "python",
   "nbconvert_exporter": "python",
   "pygments_lexer": "ipython3",
   "version": "3.7.4"
  }
 },
 "nbformat": 4,
 "nbformat_minor": 4
}
