{
 "cells": [
  {
   "cell_type": "markdown",
   "metadata": {},
   "source": [
    "### Introduction\n",
    "\n",
    "In this assignment, we will build an end to end machine learning pipeline to predict if S&P 500 is likely to move up or down. But first of all, what is S&P500? S&P500 or simply S&P is a \"stock market index\". A stock market index is designed to replicate the performance of the entire stock market. S&P500, consists of 500 large companies listed on stock exchanges in US; and it is the most commonly followed index globally. You can read more about S&P500 [on this link](https://www.thebalance.com/what-is-the-sandp-500-3305888)."
   ]
  },
  {
   "cell_type": "code",
   "execution_count": 4,
   "metadata": {},
   "outputs": [],
   "source": [
    "import yfinance as yf #getting the latest data from Yahoo Finance\n",
    "from matplotlib import pyplot as plt # for visualization\n",
    "from datetime import datetime, timedelta # handle datetime\n",
    "import pandas as pd\n",
    "import numpy as np\n",
    "import json\n",
    "from pprint import pprint\n",
    "# machine learning with sklearn\n",
    "from sklearn.ensemble import RandomForestRegressor\n",
    "from sklearn.metrics import mean_absolute_error, mean_squared_error\n",
    "from sklearn.model_selection import train_test_split\n",
    "from sklearn.model_selection import RandomizedSearchCV\n",
    "from sklearn.model_selection import GridSearchCV\n",
    "import _pickle as cPickle # save ML model\n",
    "from google.cloud import storage # save the model to GCS"
   ]
  },
  {
   "cell_type": "markdown",
   "metadata": {},
   "source": [
    "### Data Explanation"
   ]
  },
  {
   "cell_type": "code",
   "execution_count": 5,
   "metadata": {},
   "outputs": [],
   "source": [
    "# data path\n",
    "raw_data_path = \"gs://de2020-bucket/raw/\"\n",
    "feature_data_path = \"gs://de2020-bucket/feature_store/\"\n",
    "model_path = \"model_repository/\"\n",
    "tmp_dir = '/tmp/'\n",
    "# download data\n",
    "sp500_df = yf.download('^GSPC', progress=False)\n",
    "# persist data\n",
    "sp500_df.to_parquet(raw_data_path + 'sp500.parquet', compression='GZIP')"
   ]
  },
  {
   "cell_type": "code",
   "execution_count": 6,
   "metadata": {},
   "outputs": [
    {
     "data": {
      "text/html": [
       "<div>\n",
       "<style scoped>\n",
       "    .dataframe tbody tr th:only-of-type {\n",
       "        vertical-align: middle;\n",
       "    }\n",
       "\n",
       "    .dataframe tbody tr th {\n",
       "        vertical-align: top;\n",
       "    }\n",
       "\n",
       "    .dataframe thead th {\n",
       "        text-align: right;\n",
       "    }\n",
       "</style>\n",
       "<table border=\"1\" class=\"dataframe\">\n",
       "  <thead>\n",
       "    <tr style=\"text-align: right;\">\n",
       "      <th></th>\n",
       "      <th>Open</th>\n",
       "      <th>High</th>\n",
       "      <th>Low</th>\n",
       "      <th>Close</th>\n",
       "      <th>Adj Close</th>\n",
       "      <th>Volume</th>\n",
       "    </tr>\n",
       "    <tr>\n",
       "      <th>Date</th>\n",
       "      <th></th>\n",
       "      <th></th>\n",
       "      <th></th>\n",
       "      <th></th>\n",
       "      <th></th>\n",
       "      <th></th>\n",
       "    </tr>\n",
       "  </thead>\n",
       "  <tbody>\n",
       "    <tr>\n",
       "      <th>1927-12-30</th>\n",
       "      <td>17.660000</td>\n",
       "      <td>17.660000</td>\n",
       "      <td>17.660000</td>\n",
       "      <td>17.660000</td>\n",
       "      <td>17.660000</td>\n",
       "      <td>0</td>\n",
       "    </tr>\n",
       "    <tr>\n",
       "      <th>1928-01-03</th>\n",
       "      <td>17.760000</td>\n",
       "      <td>17.760000</td>\n",
       "      <td>17.760000</td>\n",
       "      <td>17.760000</td>\n",
       "      <td>17.760000</td>\n",
       "      <td>0</td>\n",
       "    </tr>\n",
       "    <tr>\n",
       "      <th>1928-01-04</th>\n",
       "      <td>17.719999</td>\n",
       "      <td>17.719999</td>\n",
       "      <td>17.719999</td>\n",
       "      <td>17.719999</td>\n",
       "      <td>17.719999</td>\n",
       "      <td>0</td>\n",
       "    </tr>\n",
       "    <tr>\n",
       "      <th>1928-01-05</th>\n",
       "      <td>17.549999</td>\n",
       "      <td>17.549999</td>\n",
       "      <td>17.549999</td>\n",
       "      <td>17.549999</td>\n",
       "      <td>17.549999</td>\n",
       "      <td>0</td>\n",
       "    </tr>\n",
       "    <tr>\n",
       "      <th>1928-01-06</th>\n",
       "      <td>17.660000</td>\n",
       "      <td>17.660000</td>\n",
       "      <td>17.660000</td>\n",
       "      <td>17.660000</td>\n",
       "      <td>17.660000</td>\n",
       "      <td>0</td>\n",
       "    </tr>\n",
       "  </tbody>\n",
       "</table>\n",
       "</div>"
      ],
      "text/plain": [
       "                 Open       High        Low      Close  Adj Close  Volume\n",
       "Date                                                                     \n",
       "1927-12-30  17.660000  17.660000  17.660000  17.660000  17.660000       0\n",
       "1928-01-03  17.760000  17.760000  17.760000  17.760000  17.760000       0\n",
       "1928-01-04  17.719999  17.719999  17.719999  17.719999  17.719999       0\n",
       "1928-01-05  17.549999  17.549999  17.549999  17.549999  17.549999       0\n",
       "1928-01-06  17.660000  17.660000  17.660000  17.660000  17.660000       0"
      ]
     },
     "execution_count": 6,
     "metadata": {},
     "output_type": "execute_result"
    }
   ],
   "source": [
    "# let's just explore the data a little bit\n",
    "sp500_df.head()"
   ]
  },
  {
   "cell_type": "code",
   "execution_count": 7,
   "metadata": {},
   "outputs": [
    {
     "data": {
      "text/plain": [
       "Open         0.0\n",
       "High         0.0\n",
       "Low          0.0\n",
       "Close        0.0\n",
       "Adj Close    0.0\n",
       "Volume       0.0\n",
       "dtype: float64"
      ]
     },
     "execution_count": 7,
     "metadata": {},
     "output_type": "execute_result"
    }
   ],
   "source": [
    "# also let's just check for missing data\n",
    "sp500_df[sp500_df['Open']==0].sum()"
   ]
  },
  {
   "cell_type": "markdown",
   "metadata": {},
   "source": [
    "As we can see from the data above, we have the following information:\n",
    "* **Open**      : Price for the opening or start of the day\n",
    "* **High**      : Highest price for that day\n",
    "* **Low**       : Lowest price for that day\n",
    "* **Close**     : Closing price\n",
    "* **Adj Close** : closing price after adjustments for all applicable splits and dividend distributions.\n",
    "* **Volume**    : Numbers of shares exchanging hands that day (buying & selling)\n"
   ]
  },
  {
   "cell_type": "markdown",
   "metadata": {},
   "source": [
    "## Feature Engineering\n",
    "\n",
    "Our ambition is to predict the closing price of the S&P500 for a given date. However, we only have a few features in our data; and machine learning model typically leverages large feature sets and picks the best features for solving the problem. So in this section, we will create more features from our data."
   ]
  },
  {
   "cell_type": "code",
   "execution_count": 35,
   "metadata": {},
   "outputs": [],
   "source": [
    "# create empty df to store feature\n",
    "sp500_feautres_df = pd.DataFrame()"
   ]
  },
  {
   "cell_type": "code",
   "execution_count": 36,
   "metadata": {},
   "outputs": [],
   "source": [
    "# price for window of different days\n",
    "average_days_window_closing_price = [5, 30, 120, 365]\n",
    "for window in average_days_window_closing_price:\n",
    "    sp500_feautres_df['Close__rolling_mean__'+str(window)+'_days'] = sp500_df['Close'].rolling(window).mean().shift(periods=1)\n",
    "    sp500_feautres_df['Close__rolling_std__'+str(window)+'_days'] = sp500_df['Close'].rolling(window).std().shift(periods=1)\n",
    "    sp500_feautres_df['Close__rolling_max__'+str(window)+'_days'] = sp500_df['Close'].rolling(window).max().shift(periods=1)\n",
    "    sp500_feautres_df['Close__rolling_min__'+str(window)+'_days'] = sp500_df['Close'].rolling(window).min().shift(periods=1)\n",
    "    sp500_feautres_df['Close__rolling_range__'+str(window)+'_days'] = sp500_feautres_df['Close__rolling_max__'+str(window)+'_days'] - sp500_feautres_df['Close__rolling_min__'+str(window)+'_days']"
   ]
  },
  {
   "cell_type": "code",
   "execution_count": 37,
   "metadata": {},
   "outputs": [],
   "source": [
    "# volume for window of different days\n",
    "average_days_window_volume = [5, 10, 15]\n",
    "for window in average_days_window_volume:\n",
    "    sp500_feautres_df['Volume__rolling_max__'+str(window)+'_days'] = sp500_df['Close'].rolling(window).max().shift(periods=1)\n",
    "    sp500_feautres_df['Volume__rolling_sum__'+str(window)+'_days'] = sp500_df['Close'].rolling(window).sum().shift(periods=1)"
   ]
  },
  {
   "cell_type": "code",
   "execution_count": 38,
   "metadata": {},
   "outputs": [
    {
     "data": {
      "text/html": [
       "<div>\n",
       "<style scoped>\n",
       "    .dataframe tbody tr th:only-of-type {\n",
       "        vertical-align: middle;\n",
       "    }\n",
       "\n",
       "    .dataframe tbody tr th {\n",
       "        vertical-align: top;\n",
       "    }\n",
       "\n",
       "    .dataframe thead th {\n",
       "        text-align: right;\n",
       "    }\n",
       "</style>\n",
       "<table border=\"1\" class=\"dataframe\">\n",
       "  <thead>\n",
       "    <tr style=\"text-align: right;\">\n",
       "      <th></th>\n",
       "      <th>Close__rolling_mean__5_days</th>\n",
       "      <th>Close__rolling_std__5_days</th>\n",
       "      <th>Close__rolling_max__5_days</th>\n",
       "      <th>Close__rolling_min__5_days</th>\n",
       "      <th>Close__rolling_range__5_days</th>\n",
       "      <th>Close__rolling_mean__30_days</th>\n",
       "      <th>Close__rolling_std__30_days</th>\n",
       "      <th>Close__rolling_max__30_days</th>\n",
       "      <th>Close__rolling_min__30_days</th>\n",
       "      <th>Close__rolling_range__30_days</th>\n",
       "      <th>...</th>\n",
       "      <th>Close__rolling_std__365_days</th>\n",
       "      <th>Close__rolling_max__365_days</th>\n",
       "      <th>Close__rolling_min__365_days</th>\n",
       "      <th>Close__rolling_range__365_days</th>\n",
       "      <th>Volume__rolling_max__5_days</th>\n",
       "      <th>Volume__rolling_sum__5_days</th>\n",
       "      <th>Volume__rolling_max__10_days</th>\n",
       "      <th>Volume__rolling_sum__10_days</th>\n",
       "      <th>Volume__rolling_max__15_days</th>\n",
       "      <th>Volume__rolling_sum__15_days</th>\n",
       "    </tr>\n",
       "    <tr>\n",
       "      <th>Date</th>\n",
       "      <th></th>\n",
       "      <th></th>\n",
       "      <th></th>\n",
       "      <th></th>\n",
       "      <th></th>\n",
       "      <th></th>\n",
       "      <th></th>\n",
       "      <th></th>\n",
       "      <th></th>\n",
       "      <th></th>\n",
       "      <th></th>\n",
       "      <th></th>\n",
       "      <th></th>\n",
       "      <th></th>\n",
       "      <th></th>\n",
       "      <th></th>\n",
       "      <th></th>\n",
       "      <th></th>\n",
       "      <th></th>\n",
       "      <th></th>\n",
       "      <th></th>\n",
       "    </tr>\n",
       "  </thead>\n",
       "  <tbody>\n",
       "    <tr>\n",
       "      <th>1927-12-30</th>\n",
       "      <td>NaN</td>\n",
       "      <td>NaN</td>\n",
       "      <td>NaN</td>\n",
       "      <td>NaN</td>\n",
       "      <td>NaN</td>\n",
       "      <td>NaN</td>\n",
       "      <td>NaN</td>\n",
       "      <td>NaN</td>\n",
       "      <td>NaN</td>\n",
       "      <td>NaN</td>\n",
       "      <td>...</td>\n",
       "      <td>NaN</td>\n",
       "      <td>NaN</td>\n",
       "      <td>NaN</td>\n",
       "      <td>NaN</td>\n",
       "      <td>NaN</td>\n",
       "      <td>NaN</td>\n",
       "      <td>NaN</td>\n",
       "      <td>NaN</td>\n",
       "      <td>NaN</td>\n",
       "      <td>NaN</td>\n",
       "    </tr>\n",
       "    <tr>\n",
       "      <th>1928-01-03</th>\n",
       "      <td>NaN</td>\n",
       "      <td>NaN</td>\n",
       "      <td>NaN</td>\n",
       "      <td>NaN</td>\n",
       "      <td>NaN</td>\n",
       "      <td>NaN</td>\n",
       "      <td>NaN</td>\n",
       "      <td>NaN</td>\n",
       "      <td>NaN</td>\n",
       "      <td>NaN</td>\n",
       "      <td>...</td>\n",
       "      <td>NaN</td>\n",
       "      <td>NaN</td>\n",
       "      <td>NaN</td>\n",
       "      <td>NaN</td>\n",
       "      <td>NaN</td>\n",
       "      <td>NaN</td>\n",
       "      <td>NaN</td>\n",
       "      <td>NaN</td>\n",
       "      <td>NaN</td>\n",
       "      <td>NaN</td>\n",
       "    </tr>\n",
       "    <tr>\n",
       "      <th>1928-01-04</th>\n",
       "      <td>NaN</td>\n",
       "      <td>NaN</td>\n",
       "      <td>NaN</td>\n",
       "      <td>NaN</td>\n",
       "      <td>NaN</td>\n",
       "      <td>NaN</td>\n",
       "      <td>NaN</td>\n",
       "      <td>NaN</td>\n",
       "      <td>NaN</td>\n",
       "      <td>NaN</td>\n",
       "      <td>...</td>\n",
       "      <td>NaN</td>\n",
       "      <td>NaN</td>\n",
       "      <td>NaN</td>\n",
       "      <td>NaN</td>\n",
       "      <td>NaN</td>\n",
       "      <td>NaN</td>\n",
       "      <td>NaN</td>\n",
       "      <td>NaN</td>\n",
       "      <td>NaN</td>\n",
       "      <td>NaN</td>\n",
       "    </tr>\n",
       "    <tr>\n",
       "      <th>1928-01-05</th>\n",
       "      <td>NaN</td>\n",
       "      <td>NaN</td>\n",
       "      <td>NaN</td>\n",
       "      <td>NaN</td>\n",
       "      <td>NaN</td>\n",
       "      <td>NaN</td>\n",
       "      <td>NaN</td>\n",
       "      <td>NaN</td>\n",
       "      <td>NaN</td>\n",
       "      <td>NaN</td>\n",
       "      <td>...</td>\n",
       "      <td>NaN</td>\n",
       "      <td>NaN</td>\n",
       "      <td>NaN</td>\n",
       "      <td>NaN</td>\n",
       "      <td>NaN</td>\n",
       "      <td>NaN</td>\n",
       "      <td>NaN</td>\n",
       "      <td>NaN</td>\n",
       "      <td>NaN</td>\n",
       "      <td>NaN</td>\n",
       "    </tr>\n",
       "    <tr>\n",
       "      <th>1928-01-06</th>\n",
       "      <td>NaN</td>\n",
       "      <td>NaN</td>\n",
       "      <td>NaN</td>\n",
       "      <td>NaN</td>\n",
       "      <td>NaN</td>\n",
       "      <td>NaN</td>\n",
       "      <td>NaN</td>\n",
       "      <td>NaN</td>\n",
       "      <td>NaN</td>\n",
       "      <td>NaN</td>\n",
       "      <td>...</td>\n",
       "      <td>NaN</td>\n",
       "      <td>NaN</td>\n",
       "      <td>NaN</td>\n",
       "      <td>NaN</td>\n",
       "      <td>NaN</td>\n",
       "      <td>NaN</td>\n",
       "      <td>NaN</td>\n",
       "      <td>NaN</td>\n",
       "      <td>NaN</td>\n",
       "      <td>NaN</td>\n",
       "    </tr>\n",
       "  </tbody>\n",
       "</table>\n",
       "<p>5 rows × 26 columns</p>\n",
       "</div>"
      ],
      "text/plain": [
       "            Close__rolling_mean__5_days  Close__rolling_std__5_days  \\\n",
       "Date                                                                  \n",
       "1927-12-30                          NaN                         NaN   \n",
       "1928-01-03                          NaN                         NaN   \n",
       "1928-01-04                          NaN                         NaN   \n",
       "1928-01-05                          NaN                         NaN   \n",
       "1928-01-06                          NaN                         NaN   \n",
       "\n",
       "            Close__rolling_max__5_days  Close__rolling_min__5_days  \\\n",
       "Date                                                                 \n",
       "1927-12-30                         NaN                         NaN   \n",
       "1928-01-03                         NaN                         NaN   \n",
       "1928-01-04                         NaN                         NaN   \n",
       "1928-01-05                         NaN                         NaN   \n",
       "1928-01-06                         NaN                         NaN   \n",
       "\n",
       "            Close__rolling_range__5_days  Close__rolling_mean__30_days  \\\n",
       "Date                                                                     \n",
       "1927-12-30                           NaN                           NaN   \n",
       "1928-01-03                           NaN                           NaN   \n",
       "1928-01-04                           NaN                           NaN   \n",
       "1928-01-05                           NaN                           NaN   \n",
       "1928-01-06                           NaN                           NaN   \n",
       "\n",
       "            Close__rolling_std__30_days  Close__rolling_max__30_days  \\\n",
       "Date                                                                   \n",
       "1927-12-30                          NaN                          NaN   \n",
       "1928-01-03                          NaN                          NaN   \n",
       "1928-01-04                          NaN                          NaN   \n",
       "1928-01-05                          NaN                          NaN   \n",
       "1928-01-06                          NaN                          NaN   \n",
       "\n",
       "            Close__rolling_min__30_days  Close__rolling_range__30_days  ...  \\\n",
       "Date                                                                    ...   \n",
       "1927-12-30                          NaN                            NaN  ...   \n",
       "1928-01-03                          NaN                            NaN  ...   \n",
       "1928-01-04                          NaN                            NaN  ...   \n",
       "1928-01-05                          NaN                            NaN  ...   \n",
       "1928-01-06                          NaN                            NaN  ...   \n",
       "\n",
       "            Close__rolling_std__365_days  Close__rolling_max__365_days  \\\n",
       "Date                                                                     \n",
       "1927-12-30                           NaN                           NaN   \n",
       "1928-01-03                           NaN                           NaN   \n",
       "1928-01-04                           NaN                           NaN   \n",
       "1928-01-05                           NaN                           NaN   \n",
       "1928-01-06                           NaN                           NaN   \n",
       "\n",
       "            Close__rolling_min__365_days  Close__rolling_range__365_days  \\\n",
       "Date                                                                       \n",
       "1927-12-30                           NaN                             NaN   \n",
       "1928-01-03                           NaN                             NaN   \n",
       "1928-01-04                           NaN                             NaN   \n",
       "1928-01-05                           NaN                             NaN   \n",
       "1928-01-06                           NaN                             NaN   \n",
       "\n",
       "            Volume__rolling_max__5_days  Volume__rolling_sum__5_days  \\\n",
       "Date                                                                   \n",
       "1927-12-30                          NaN                          NaN   \n",
       "1928-01-03                          NaN                          NaN   \n",
       "1928-01-04                          NaN                          NaN   \n",
       "1928-01-05                          NaN                          NaN   \n",
       "1928-01-06                          NaN                          NaN   \n",
       "\n",
       "            Volume__rolling_max__10_days  Volume__rolling_sum__10_days  \\\n",
       "Date                                                                     \n",
       "1927-12-30                           NaN                           NaN   \n",
       "1928-01-03                           NaN                           NaN   \n",
       "1928-01-04                           NaN                           NaN   \n",
       "1928-01-05                           NaN                           NaN   \n",
       "1928-01-06                           NaN                           NaN   \n",
       "\n",
       "            Volume__rolling_max__15_days  Volume__rolling_sum__15_days  \n",
       "Date                                                                    \n",
       "1927-12-30                           NaN                           NaN  \n",
       "1928-01-03                           NaN                           NaN  \n",
       "1928-01-04                           NaN                           NaN  \n",
       "1928-01-05                           NaN                           NaN  \n",
       "1928-01-06                           NaN                           NaN  \n",
       "\n",
       "[5 rows x 26 columns]"
      ]
     },
     "execution_count": 38,
     "metadata": {},
     "output_type": "execute_result"
    }
   ],
   "source": [
    "sp500_feautres_df.head()"
   ]
  },
  {
   "cell_type": "markdown",
   "metadata": {},
   "source": [
    "#### Seasonality"
   ]
  },
  {
   "cell_type": "code",
   "execution_count": 11,
   "metadata": {},
   "outputs": [],
   "source": [
    "# get day of the week\n",
    "sp500_df['day_of_week'] = sp500_df.index.dayofweek\n",
    "# get quarter\n",
    "sp500_df['quarter'] = sp500_df.index.quarter"
   ]
  },
  {
   "cell_type": "code",
   "execution_count": 12,
   "metadata": {},
   "outputs": [],
   "source": [
    "sp500_feautres_df = pd.concat([sp500_feautres_df, pd.get_dummies(sp500_df['day_of_week'], prefix='day_of_week')], 1)\n",
    "sp500_feautres_df = pd.concat([sp500_feautres_df, pd.get_dummies(sp500_df['day_of_week'], prefix='quarter')], 1)"
   ]
  },
  {
   "cell_type": "markdown",
   "metadata": {},
   "source": [
    "### Train Random Forest"
   ]
  },
  {
   "cell_type": "code",
   "execution_count": 13,
   "metadata": {},
   "outputs": [],
   "source": [
    "# let's not confuse our model from data from way back\n",
    "sp500_feautres_df = sp500_feautres_df[sp500_feautres_df.index > datetime(year=1990, month=12, day=31)]\n",
    "# get label for feature dataset\n",
    "sp500_timeboxed_feautres_df = pd.merge(sp500_df['Close'], sp500_feautres_df, left_index=True, right_index=True)\n",
    "# write out to parquet\n",
    "sp500_timeboxed_feautres_df.to_parquet(feature_data_path + 'sp500_features.parquet', compression='GZIP')"
   ]
  },
  {
   "cell_type": "code",
   "execution_count": 14,
   "metadata": {},
   "outputs": [],
   "source": [
    "# hold out last months data for evaluation\n",
    "sp500_last_month_df = sp500_timeboxed_feautres_df[sp500_timeboxed_feautres_df.index > (datetime.today() - timedelta(days=30))]\n",
    "# this will be our training set\n",
    "sp500_train_df = sp500_timeboxed_feautres_df[sp500_timeboxed_feautres_df.index < (datetime.today() - timedelta(days=30))]"
   ]
  },
  {
   "cell_type": "code",
   "execution_count": 15,
   "metadata": {},
   "outputs": [],
   "source": [
    "# get x and y\n",
    "x_train, y_train = sp500_train_df.drop('Close', axis=1), sp500_train_df['Close']\n",
    "# split the data for initial testing\n",
    "X_train, X_test, Y_train, Y_test = train_test_split(x_train, y_train, test_size=0.2,random_state=786)"
   ]
  },
  {
   "cell_type": "code",
   "execution_count": 16,
   "metadata": {},
   "outputs": [
    {
     "data": {
      "text/plain": [
       "RandomForestRegressor()"
      ]
     },
     "execution_count": 16,
     "metadata": {},
     "output_type": "execute_result"
    }
   ],
   "source": [
    "rf_non_opt = RandomForestRegressor()\n",
    "rf_non_opt.fit(X_train, Y_train)"
   ]
  },
  {
   "cell_type": "code",
   "execution_count": 17,
   "metadata": {},
   "outputs": [
    {
     "name": "stdout",
     "output_type": "stream",
     "text": [
      "mean absolute error without optimization: 12.200364839372362\n",
      "mean squared error without optimization is: 419.89312906848767\n"
     ]
    }
   ],
   "source": [
    "predictions_non_opt = rf_non_opt.predict(X_test)\n",
    "print('mean absolute error without optimization: %s' % mean_absolute_error(Y_test, predictions_non_opt))\n",
    "print('mean squared error without optimization is: %s' % mean_squared_error(Y_test, predictions_non_opt)) "
   ]
  },
  {
   "cell_type": "code",
   "execution_count": 18,
   "metadata": {},
   "outputs": [],
   "source": [
    "# Number of trees in random forest\n",
    "n_estimators = [150, 250, 300, 400]\n",
    "# Number of features to consider at every split\n",
    "max_features = ['auto', 'sqrt']\n",
    "# Maximum number of levels in tree\n",
    "max_depth = [10, 50, 100, None]\n",
    "# Minimum number of samples required to split a node\n",
    "min_samples_split = [2, 3, 5, 10]\n",
    "# Minimum number of samples required at each leaf node\n",
    "min_samples_leaf = [1, 2, 4]\n",
    "# Method of selecting samples for training each tree\n",
    "bootstrap = [True, False]"
   ]
  },
  {
   "cell_type": "code",
   "execution_count": 19,
   "metadata": {},
   "outputs": [],
   "source": [
    "# Create the random grid\n",
    "random_grid = {'n_estimators': n_estimators,\n",
    "               'max_features': max_features,\n",
    "               'max_depth': max_depth,\n",
    "               'min_samples_split': min_samples_split,\n",
    "               'min_samples_leaf': min_samples_leaf,\n",
    "               'bootstrap': bootstrap}"
   ]
  },
  {
   "cell_type": "code",
   "execution_count": 20,
   "metadata": {},
   "outputs": [
    {
     "name": "stdout",
     "output_type": "stream",
     "text": [
      "Fitting 3 folds for each of 3 candidates, totalling 9 fits\n",
      "[CV] n_estimators=300, min_samples_split=3, min_samples_leaf=1, max_features=auto, max_depth=50, bootstrap=True \n"
     ]
    },
    {
     "name": "stderr",
     "output_type": "stream",
     "text": [
      "[Parallel(n_jobs=-1)]: Using backend SequentialBackend with 1 concurrent workers.\n"
     ]
    },
    {
     "name": "stdout",
     "output_type": "stream",
     "text": [
      "[CV]  n_estimators=300, min_samples_split=3, min_samples_leaf=1, max_features=auto, max_depth=50, bootstrap=True, total=  22.7s\n",
      "[CV] n_estimators=300, min_samples_split=3, min_samples_leaf=1, max_features=auto, max_depth=50, bootstrap=True \n"
     ]
    },
    {
     "name": "stderr",
     "output_type": "stream",
     "text": [
      "[Parallel(n_jobs=-1)]: Done   1 out of   1 | elapsed:   22.7s remaining:    0.0s\n"
     ]
    },
    {
     "name": "stdout",
     "output_type": "stream",
     "text": [
      "[CV]  n_estimators=300, min_samples_split=3, min_samples_leaf=1, max_features=auto, max_depth=50, bootstrap=True, total=  22.3s\n",
      "[CV] n_estimators=300, min_samples_split=3, min_samples_leaf=1, max_features=auto, max_depth=50, bootstrap=True \n",
      "[CV]  n_estimators=300, min_samples_split=3, min_samples_leaf=1, max_features=auto, max_depth=50, bootstrap=True, total=  22.4s\n",
      "[CV] n_estimators=400, min_samples_split=2, min_samples_leaf=1, max_features=sqrt, max_depth=10, bootstrap=False \n",
      "[CV]  n_estimators=400, min_samples_split=2, min_samples_leaf=1, max_features=sqrt, max_depth=10, bootstrap=False, total=   6.8s\n",
      "[CV] n_estimators=400, min_samples_split=2, min_samples_leaf=1, max_features=sqrt, max_depth=10, bootstrap=False \n",
      "[CV]  n_estimators=400, min_samples_split=2, min_samples_leaf=1, max_features=sqrt, max_depth=10, bootstrap=False, total=   6.7s\n",
      "[CV] n_estimators=400, min_samples_split=2, min_samples_leaf=1, max_features=sqrt, max_depth=10, bootstrap=False \n",
      "[CV]  n_estimators=400, min_samples_split=2, min_samples_leaf=1, max_features=sqrt, max_depth=10, bootstrap=False, total=   6.8s\n",
      "[CV] n_estimators=300, min_samples_split=10, min_samples_leaf=2, max_features=sqrt, max_depth=100, bootstrap=True \n",
      "[CV]  n_estimators=300, min_samples_split=10, min_samples_leaf=2, max_features=sqrt, max_depth=100, bootstrap=True, total=   4.4s\n",
      "[CV] n_estimators=300, min_samples_split=10, min_samples_leaf=2, max_features=sqrt, max_depth=100, bootstrap=True \n",
      "[CV]  n_estimators=300, min_samples_split=10, min_samples_leaf=2, max_features=sqrt, max_depth=100, bootstrap=True, total=   3.8s\n",
      "[CV] n_estimators=300, min_samples_split=10, min_samples_leaf=2, max_features=sqrt, max_depth=100, bootstrap=True \n",
      "[CV]  n_estimators=300, min_samples_split=10, min_samples_leaf=2, max_features=sqrt, max_depth=100, bootstrap=True, total=   4.0s\n"
     ]
    },
    {
     "name": "stderr",
     "output_type": "stream",
     "text": [
      "[Parallel(n_jobs=-1)]: Done   9 out of   9 | elapsed:  1.7min finished\n"
     ]
    },
    {
     "data": {
      "text/plain": [
       "RandomizedSearchCV(cv=3, estimator=RandomForestRegressor(), n_iter=3, n_jobs=-1,\n",
       "                   param_distributions={'bootstrap': [True, False],\n",
       "                                        'max_depth': [10, 50, 100, None],\n",
       "                                        'max_features': ['auto', 'sqrt'],\n",
       "                                        'min_samples_leaf': [1, 2, 4],\n",
       "                                        'min_samples_split': [2, 3, 5, 10],\n",
       "                                        'n_estimators': [150, 250, 300, 400]},\n",
       "                   random_state=42, verbose=2)"
      ]
     },
     "execution_count": 20,
     "metadata": {},
     "output_type": "execute_result"
    }
   ],
   "source": [
    "# Use the random grid to search for best hyperparameters\n",
    "# First create the base model to tune\n",
    "rf = RandomForestRegressor()\n",
    "# Random search of parameters, using 3 fold cross validation, \n",
    "# search across 100 different combinations, and use all available cores\n",
    "rf_random = RandomizedSearchCV(estimator = rf, param_distributions = random_grid, n_iter = 3, cv = 3, verbose=2, random_state=42, n_jobs = -1)\n",
    "# Fit the random search model\n",
    "rf_random.fit(x_train, y_train) # since we will use CV, we don't need to split data to train and test"
   ]
  },
  {
   "cell_type": "code",
   "execution_count": 21,
   "metadata": {},
   "outputs": [],
   "source": [
    "# save the best paramas\n",
    "with open('best_param.json', 'w') as outfile:\n",
    "    json.dump(rf_random.best_params_, outfile)"
   ]
  },
  {
   "cell_type": "code",
   "execution_count": 22,
   "metadata": {},
   "outputs": [
    {
     "name": "stdout",
     "output_type": "stream",
     "text": [
      "{'bootstrap': True,\n",
      " 'max_depth': 50,\n",
      " 'max_features': 'auto',\n",
      " 'min_samples_leaf': 1,\n",
      " 'min_samples_split': 3,\n",
      " 'n_estimators': 300}\n"
     ]
    }
   ],
   "source": [
    "pprint(rf_random.best_params_)"
   ]
  },
  {
   "cell_type": "markdown",
   "metadata": {},
   "source": [
    "### Evaluating The Two Models"
   ]
  },
  {
   "cell_type": "code",
   "execution_count": 23,
   "metadata": {},
   "outputs": [],
   "source": [
    "x_lm, y_lm = sp500_last_month_df.drop('Close', axis=1), sp500_last_month_df['Close']"
   ]
  },
  {
   "cell_type": "code",
   "execution_count": 24,
   "metadata": {},
   "outputs": [
    {
     "name": "stdout",
     "output_type": "stream",
     "text": [
      "mean absolute error without optimization: 151.2808314208984\n",
      "mean absolute error with optimization: 148.6937338824078\n",
      "mean squared error without optimization is: 29600.607615319634\n",
      "mean squared error with optimization is: 28812.074937829573\n"
     ]
    }
   ],
   "source": [
    "predictions_lm_non_opt = rf_non_opt.predict(x_lm)\n",
    "predictions_lm_random = rf_random.predict(x_lm)\n",
    "print('mean absolute error without optimization: %s' % mean_absolute_error(y_lm, predictions_lm_non_opt))\n",
    "print('mean absolute error with optimization: %s' % mean_absolute_error(y_lm, predictions_lm_random))\n",
    "print('mean squared error without optimization is: %s' % mean_squared_error(y_lm, predictions_lm_non_opt)) \n",
    "print('mean squared error with optimization is: %s' % mean_squared_error(y_lm, predictions_lm_random)) "
   ]
  },
  {
   "cell_type": "code",
   "execution_count": 25,
   "metadata": {},
   "outputs": [],
   "source": [
    "val_df = pd.DataFrame(list(zip(y_lm, predictions_lm_non_opt, predictions_lm_random)))\n",
    "val_df.columns = ['Actual', 'Non Optimized RF', 'Optimized RF']"
   ]
  },
  {
   "cell_type": "code",
   "execution_count": 26,
   "metadata": {},
   "outputs": [],
   "source": [
    "val_df.index = sp500_last_month_df.index"
   ]
  },
  {
   "cell_type": "code",
   "execution_count": 27,
   "metadata": {},
   "outputs": [
    {
     "data": {
      "text/plain": [
       "Text(0.5, 1.0, 'Optimized Random Forest')"
      ]
     },
     "execution_count": 27,
     "metadata": {},
     "output_type": "execute_result"
    },
    {
     "data": {
      "image/png": "[encoded data removed]",
      "text/plain": [
       "<Figure size 1440x504 with 2 Axes>"
      ]
     },
     "metadata": {
      "needs_background": "light"
     },
     "output_type": "display_data"
    }
   ],
   "source": [
    "fig, axs = plt.subplots(1,2, figsize=(20, 7))\n",
    "axs[0].plot(val_df[['Actual', 'Non Optimized RF']])\n",
    "axs[0].set_title('Non Optimized Random Forest')\n",
    "axs[1].plot(val_df[['Actual', 'Optimized RF']])\n",
    "axs[1].set_title('Optimized Random Forest')"
   ]
  },
  {
   "cell_type": "markdown",
   "metadata": {},
   "source": [
    "### Save The Model"
   ]
  },
  {
   "cell_type": "code",
   "execution_count": 28,
   "metadata": {},
   "outputs": [
    {
     "name": "stdout",
     "output_type": "stream",
     "text": [
      "taking the optimized version\n"
     ]
    }
   ],
   "source": [
    "# take the model with the best score\n",
    "if mean_absolute_error(y_lm, predictions_lm_random) < mean_absolute_error(y_lm, predictions_lm_non_opt):\n",
    "    rf_best = rf_random.best_estimator_\n",
    "    print('taking the optimized version')\n",
    "else:\n",
    "    rf_best = rf_non_opt\n",
    "    print('taking the non-optimized version')"
   ]
  },
  {
   "cell_type": "code",
   "execution_count": 29,
   "metadata": {},
   "outputs": [],
   "source": [
    "# save the model into temp\n",
    "with open('/tmp/model.pickle', 'wb') as f:\n",
    "    cPickle.dump(rf_best, f, -1)"
   ]
  }
 ],
 "metadata": {
  "environment": {
   "name": "common-cpu.m59",
   "type": "gcloud",
   "uri": "gcr.io/deeplearning-platform-release/base-cpu:m59"
  },
  "kernelspec": {
   "display_name": "Python 3",
   "language": "python",
   "name": "python3"
  },
  "language_info": {
   "codemirror_mode": {
    "name": "ipython",
    "version": 3
   },
   "file_extension": ".py",
   "mimetype": "text/x-python",
   "name": "python",
   "nbconvert_exporter": "python",
   "pygments_lexer": "ipython3",
   "version": "3.7.8"
  }
 },
 "nbformat": 4,
 "nbformat_minor": 4
}
