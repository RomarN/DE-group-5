{
 "cells": [
  {
   "cell_type": "code",
   "execution_count": 88,
   "metadata": {},
   "outputs": [],
   "source": [
    "from sklearn.svm import SVR\n",
    "import pandas as pd\n",
    "import numpy as np\n",
    "import math"
   ]
  },
  {
   "cell_type": "code",
   "execution_count": 92,
   "metadata": {},
   "outputs": [
    {
     "data": {
      "text/html": [
       "<div>\n",
       "<style scoped>\n",
       "    .dataframe tbody tr th:only-of-type {\n",
       "        vertical-align: middle;\n",
       "    }\n",
       "\n",
       "    .dataframe tbody tr th {\n",
       "        vertical-align: top;\n",
       "    }\n",
       "\n",
       "    .dataframe thead th {\n",
       "        text-align: right;\n",
       "    }\n",
       "</style>\n",
       "<table border=\"1\" class=\"dataframe\">\n",
       "  <thead>\n",
       "    <tr style=\"text-align: right;\">\n",
       "      <th></th>\n",
       "      <th>X</th>\n",
       "      <th>Y</th>\n",
       "      <th>month</th>\n",
       "      <th>day</th>\n",
       "      <th>FFMC</th>\n",
       "      <th>DMC</th>\n",
       "      <th>DC</th>\n",
       "      <th>ISI</th>\n",
       "      <th>temp</th>\n",
       "      <th>RH</th>\n",
       "      <th>wind</th>\n",
       "      <th>rain</th>\n",
       "      <th>area</th>\n",
       "    </tr>\n",
       "  </thead>\n",
       "  <tbody>\n",
       "    <tr>\n",
       "      <td>0</td>\n",
       "      <td>7</td>\n",
       "      <td>5</td>\n",
       "      <td>mar</td>\n",
       "      <td>fri</td>\n",
       "      <td>86.2</td>\n",
       "      <td>26.2</td>\n",
       "      <td>94.3</td>\n",
       "      <td>5.1</td>\n",
       "      <td>8.2</td>\n",
       "      <td>51</td>\n",
       "      <td>6.7</td>\n",
       "      <td>0.0</td>\n",
       "      <td>0.0</td>\n",
       "    </tr>\n",
       "    <tr>\n",
       "      <td>1</td>\n",
       "      <td>7</td>\n",
       "      <td>4</td>\n",
       "      <td>oct</td>\n",
       "      <td>tue</td>\n",
       "      <td>90.6</td>\n",
       "      <td>35.4</td>\n",
       "      <td>669.1</td>\n",
       "      <td>6.7</td>\n",
       "      <td>18.0</td>\n",
       "      <td>33</td>\n",
       "      <td>0.9</td>\n",
       "      <td>0.0</td>\n",
       "      <td>0.0</td>\n",
       "    </tr>\n",
       "    <tr>\n",
       "      <td>2</td>\n",
       "      <td>7</td>\n",
       "      <td>4</td>\n",
       "      <td>oct</td>\n",
       "      <td>sat</td>\n",
       "      <td>90.6</td>\n",
       "      <td>43.7</td>\n",
       "      <td>686.9</td>\n",
       "      <td>6.7</td>\n",
       "      <td>14.6</td>\n",
       "      <td>33</td>\n",
       "      <td>1.3</td>\n",
       "      <td>0.0</td>\n",
       "      <td>0.0</td>\n",
       "    </tr>\n",
       "    <tr>\n",
       "      <td>3</td>\n",
       "      <td>8</td>\n",
       "      <td>6</td>\n",
       "      <td>mar</td>\n",
       "      <td>fri</td>\n",
       "      <td>91.7</td>\n",
       "      <td>33.3</td>\n",
       "      <td>77.5</td>\n",
       "      <td>9.0</td>\n",
       "      <td>8.3</td>\n",
       "      <td>97</td>\n",
       "      <td>4.0</td>\n",
       "      <td>0.2</td>\n",
       "      <td>0.0</td>\n",
       "    </tr>\n",
       "    <tr>\n",
       "      <td>4</td>\n",
       "      <td>8</td>\n",
       "      <td>6</td>\n",
       "      <td>mar</td>\n",
       "      <td>sun</td>\n",
       "      <td>89.3</td>\n",
       "      <td>51.3</td>\n",
       "      <td>102.2</td>\n",
       "      <td>9.6</td>\n",
       "      <td>11.4</td>\n",
       "      <td>99</td>\n",
       "      <td>1.8</td>\n",
       "      <td>0.0</td>\n",
       "      <td>0.0</td>\n",
       "    </tr>\n",
       "  </tbody>\n",
       "</table>\n",
       "</div>"
      ],
      "text/plain": [
       "   X  Y month  day  FFMC   DMC     DC  ISI  temp  RH  wind  rain  area\n",
       "0  7  5   mar  fri  86.2  26.2   94.3  5.1   8.2  51   6.7   0.0   0.0\n",
       "1  7  4   oct  tue  90.6  35.4  669.1  6.7  18.0  33   0.9   0.0   0.0\n",
       "2  7  4   oct  sat  90.6  43.7  686.9  6.7  14.6  33   1.3   0.0   0.0\n",
       "3  8  6   mar  fri  91.7  33.3   77.5  9.0   8.3  97   4.0   0.2   0.0\n",
       "4  8  6   mar  sun  89.3  51.3  102.2  9.6  11.4  99   1.8   0.0   0.0"
      ]
     },
     "execution_count": 92,
     "metadata": {},
     "output_type": "execute_result"
    }
   ],
   "source": [
    "df = pd.read_json('forestfires')\n",
    "df.head()\n"
   ]
  },
  {
   "cell_type": "code",
   "execution_count": 90,
   "metadata": {},
   "outputs": [],
   "source": [
    "dftest= df.values"
   ]
  },
  {
   "cell_type": "code",
   "execution_count": 79,
   "metadata": {},
   "outputs": [],
   "source": [
    "X = dftest[:, 0:8]\n",
    "Y = dftest[:, 8]"
   ]
  },
  {
   "cell_type": "code",
   "execution_count": 80,
   "metadata": {},
   "outputs": [
    {
     "data": {
      "text/plain": [
       "array([[7, 5, 'mar', ..., 26.2, 94.3, 5.1],\n",
       "       [7, 4, 'oct', ..., 35.4, 669.1, 6.7],\n",
       "       [7, 4, 'oct', ..., 43.7, 686.9, 6.7],\n",
       "       ...,\n",
       "       [7, 4, 'aug', ..., 56.7, 665.6, 1.9],\n",
       "       [1, 4, 'aug', ..., 146.0, 614.7, 11.3],\n",
       "       [6, 3, 'nov', ..., 3.0, 106.7, 1.1]], dtype=object)"
      ]
     },
     "execution_count": 80,
     "metadata": {},
     "output_type": "execute_result"
    }
   ],
   "source": [
    "X"
   ]
  },
  {
   "cell_type": "code",
   "execution_count": 81,
   "metadata": {},
   "outputs": [
    {
     "data": {
      "text/plain": [
       "array([8.2, 18.0, 14.6, 8.3, 11.4, 22.2, 24.1, 8.0, 13.1, 22.8, 17.8,\n",
       "       19.3, 17.0, 21.3, 26.4, 22.9, 15.1, 16.7, 15.9, 9.3, 18.3, 19.1,\n",
       "       21.0, 19.5, 23.7, 16.3, 19.0, 19.4, 30.2, 22.8, 25.4, 11.2, 20.6,\n",
       "       17.7, 21.2, 18.2, 21.7, 11.3, 17.8, 14.1, 23.3, 18.4, 16.6, 19.6,\n",
       "       12.9, 25.9, 14.7, 23.0, 11.8, 11.0, 20.8, 21.5, 20.4, 20.4, 17.6,\n",
       "       27.7, 17.8, 13.8, 13.9, 12.3, 11.5, 5.5, 18.8, 20.8, 23.1, 18.6,\n",
       "       23.0, 19.6, 19.6, 17.2, 15.8, 17.7, 15.6, 17.3, 27.6, 6.7, 15.7,\n",
       "       8.3, 14.7, 21.6, 19.5, 17.9, 18.6, 16.6, 20.2, 21.5, 25.4, 22.4,\n",
       "       25.3, 17.4, 14.7, 17.4, 20.8, 18.2, 23.4, 17.8, 12.7, 17.4, 11.6,\n",
       "       19.8, 19.8, 14.4, 20.1, 24.1, 5.3, 12.7, 18.2, 21.4, 20.3, 17.4,\n",
       "       13.7, 18.8, 22.8, 18.9, 15.8, 15.5, 11.6, 15.2, 10.6, 19.6, 10.3,\n",
       "       17.1, 22.5, 17.9, 19.8, 20.6, 9.0, 17.2, 15.9, 15.4, 15.4, 14.0,\n",
       "       10.6, 17.6, 14.9, 17.6, 17.2, 15.6, 18.0, 21.7, 21.9, 23.3, 21.2,\n",
       "       16.6, 23.8, 27.4, 13.2, 24.2, 17.4, 23.7, 23.2, 24.8, 24.6, 20.1,\n",
       "       29.6, 16.4, 28.6, 18.4, 20.5, 19.0, 16.1, 20.3, 15.2, 17.8, 17.8,\n",
       "       5.3, 16.6, 23.4, 14.6, 20.7, 21.9, 17.4, 20.1, 17.7, 14.2, 20.3,\n",
       "       5.8, 19.2, 18.3, 14.4, 23.9, 19.1, 12.4, 16.8, 20.8, 17.6, 11.5,\n",
       "       21.0, 13.3, 11.5, 11.7, 24.2, 24.6, 24.3, 24.6, 23.5, 5.8, 21.5,\n",
       "       13.9, 22.6, 21.6, 12.4, 8.8, 20.2, 15.1, 22.1, 22.9, 20.7, 19.6,\n",
       "       23.2, 18.4, 5.1, 20.1, 11.0, 17.0, 17.0, 16.9, 12.4, 19.4, 15.2,\n",
       "       16.2, 18.6, 11.0, 13.4, 15.4, 22.9, 16.1, 20.1, 28.3, 16.4, 26.4,\n",
       "       27.8, 18.7, 24.3, 17.7, 19.6, 18.2, 18.8, 25.1, 13.4, 15.2, 16.7,\n",
       "       15.4, 21.9, 22.4, 26.8, 25.7, 20.7, 28.7, 21.7, 26.8, 24.0, 22.1,\n",
       "       21.4, 18.9, 22.3, 23.9, 21.4, 20.6, 23.7, 28.3, 11.2, 21.4, 19.3,\n",
       "       21.8, 22.1, 19.4, 23.7, 21.0, 19.1, 21.8, 20.1, 20.2, 4.8, 5.1,\n",
       "       5.1, 4.6, 4.6, 4.6, 4.6, 2.2, 5.1, 4.2, 8.8, 7.5, 23.4, 12.6, 22.1,\n",
       "       24.2, 24.3, 18.7, 25.3, 22.9, 26.9, 17.1, 22.2, 14.3, 15.4, 19.6,\n",
       "       10.6, 20.7, 19.1, 19.2, 19.2, 11.3, 19.0, 17.1, 23.8, 16.0, 24.9,\n",
       "       25.3, 24.8, 12.2, 24.3, 19.7, 18.5, 18.6, 19.2, 21.6, 21.6, 18.9,\n",
       "       16.8, 16.8, 12.9, 13.7, 24.2, 24.1, 21.2, 19.7, 23.5, 24.2, 21.5,\n",
       "       17.1, 18.1, 18.0, 9.8, 19.3, 23.0, 22.7, 20.4, 19.3, 15.7, 20.6,\n",
       "       15.9, 12.2, 16.8, 21.3, 10.1, 17.4, 12.8, 10.1, 15.4, 20.6, 19.8,\n",
       "       18.7, 20.8, 20.8, 15.9, 19.7, 21.1, 18.4, 17.3, 15.2, 15.9, 21.1,\n",
       "       19.6, 15.9, 16.4, 16.8, 13.8, 13.8, 14.2, 10.4, 20.3, 10.3, 15.4,\n",
       "       21.1, 21.9, 8.7, 5.2, 19.3, 16.2, 28.2, 20.5, 21.3, 20.9, 20.6,\n",
       "       11.6, 23.3, 23.3, 7.5, 20.7, 21.9, 15.2, 5.3, 10.1, 20.4, 24.3,\n",
       "       25.9, 28.0, 28.0, 22.8, 25.0, 21.3, 21.8, 27.9, 17.0, 14.2, 19.9,\n",
       "       23.4, 14.7, 8.2, 22.8, 26.4, 24.1, 27.5, 26.3, 13.8, 24.9, 24.8,\n",
       "       26.2, 30.8, 29.3, 22.3, 26.9, 20.4, 20.4, 27.9, 26.2, 24.6, 19.4,\n",
       "       23.3, 23.9, 20.9, 22.2, 23.8, 26.8, 14.2, 23.6, 19.1, 16.2, 25.5,\n",
       "       10.9, 14.8, 16.2, 17.3, 19.1, 8.9, 10.5, 19.3, 23.4, 11.8, 17.7,\n",
       "       17.4, 16.8, 17.9, 16.6, 19.9, 18.9, 15.5, 18.9, 18.9, 14.5, 4.6,\n",
       "       5.1, 4.6, 10.2, 11.2, 13.3, 13.7, 17.6, 18.0, 14.3, 24.5, 26.4,\n",
       "       22.7, 27.2, 26.1, 18.2, 22.6, 30.2, 30.2, 23.4, 31.0, 33.1, 30.6,\n",
       "       24.1, 26.4, 19.4, 20.6, 28.7, 32.4, 32.4, 27.5, 30.8, 23.9, 32.6,\n",
       "       32.3, 33.3, 27.3, 21.6, 21.6, 20.7, 29.2, 28.9, 26.7, 18.5, 25.9,\n",
       "       25.9, 21.1, 18.2, 27.8, 27.8, 21.9, 21.2, 25.6, 11.8], dtype=object)"
      ]
     },
     "execution_count": 81,
     "metadata": {},
     "output_type": "execute_result"
    }
   ],
   "source": [
    "Y"
   ]
  },
  {
   "cell_type": "code",
   "execution_count": 82,
   "metadata": {},
   "outputs": [],
   "source": [
    "def loadcsv(df): \n",
    "    \n",
    "    #Convert the categorical data into binary values\n",
    "    df_bin = df.join(pd.get_dummies(df.pop('day'))) \n",
    "    df_bin = df_bin.join(pd.get_dummies(df_bin.pop('month')))\n",
    "    df_bin.pop('sun')\n",
    "    df_bin.pop('dec')\n",
    "#     df_bin = df_bin[df_bin['area'] < 3.2]  \n",
    "    # df_bin.loc[df.area > 0, 'area']= 1\n",
    "    #Return the database\n",
    "    return df_bin"
   ]
  },
  {
   "cell_type": "code",
   "execution_count": 83,
   "metadata": {},
   "outputs": [],
   "source": [
    "def InverseLog(y):\n",
    "    \"Inverse log transform to post proccess the AREA attribute\"\n",
    "    return [round(math.exp(item) - 1,2) for item in y]"
   ]
  },
  {
   "cell_type": "code",
   "execution_count": 84,
   "metadata": {},
   "outputs": [],
   "source": [
    "def preprocess(df):\n",
    "    # Convert the categorical data into binary values\n",
    "    df_bin = df.join(pd.get_dummies(df.pop('day')))\n",
    "    df_bin = df_bin.join(pd.get_dummies(df_bin.pop('month')))\n",
    "    df_bin.pop('sun')\n",
    "    df_bin.pop('dec')\n",
    "    area = df_bin.pop('area')\n",
    "    area = np.log(area + 1)\n",
    "    df_bin['area'] = area\n",
    "    # Return the database\n",
    "    return df_bin"
   ]
  },
  {
   "cell_type": "code",
   "execution_count": 93,
   "metadata": {},
   "outputs": [],
   "source": [
    "df = loadcsv(df)\n"
   ]
  },
  {
   "cell_type": "code",
   "execution_count": 94,
   "metadata": {},
   "outputs": [
    {
     "data": {
      "text/plain": [
       "Index(['X', 'Y', 'FFMC', 'DMC', 'DC', 'ISI', 'temp', 'RH', 'wind', 'rain',\n",
       "       'area', 'fri', 'mon', 'sat', 'thu', 'tue', 'wed', 'apr', 'aug', 'feb',\n",
       "       'jan', 'jul', 'jun', 'mar', 'may', 'nov', 'oct', 'sep'],\n",
       "      dtype='object')"
      ]
     },
     "execution_count": 94,
     "metadata": {},
     "output_type": "execute_result"
    }
   ],
   "source": [
    "df['area']\n",
    "df.columns"
   ]
  },
  {
   "cell_type": "code",
   "execution_count": 10,
   "metadata": {},
   "outputs": [],
   "source": [
    "clf = SVR()"
   ]
  },
  {
   "cell_type": "code",
   "execution_count": 11,
   "metadata": {},
   "outputs": [],
   "source": [
    "y = df.pop('area')\n",
    "X = df"
   ]
  },
  {
   "cell_type": "code",
   "execution_count": 12,
   "metadata": {},
   "outputs": [
    {
     "name": "stdout",
     "output_type": "stream",
     "text": [
      "     X  Y  FFMC    DMC     DC   ISI  temp  RH  wind  rain  ...  aug  feb  jan  \\\n",
      "0    7  5  86.2   26.2   94.3   5.1   8.2  51   6.7   0.0  ...    0    0    0   \n",
      "1    7  4  90.6   35.4  669.1   6.7  18.0  33   0.9   0.0  ...    0    0    0   \n",
      "2    7  4  90.6   43.7  686.9   6.7  14.6  33   1.3   0.0  ...    0    0    0   \n",
      "3    8  6  91.7   33.3   77.5   9.0   8.3  97   4.0   0.2  ...    0    0    0   \n",
      "4    8  6  89.3   51.3  102.2   9.6  11.4  99   1.8   0.0  ...    0    0    0   \n",
      "..  .. ..   ...    ...    ...   ...   ...  ..   ...   ...  ...  ...  ...  ...   \n",
      "512  4  3  81.6   56.7  665.6   1.9  27.8  32   2.7   0.0  ...    1    0    0   \n",
      "513  2  4  81.6   56.7  665.6   1.9  21.9  71   5.8   0.0  ...    1    0    0   \n",
      "514  7  4  81.6   56.7  665.6   1.9  21.2  70   6.7   0.0  ...    1    0    0   \n",
      "515  1  4  94.4  146.0  614.7  11.3  25.6  42   4.0   0.0  ...    1    0    0   \n",
      "516  6  3  79.5    3.0  106.7   1.1  11.8  31   4.5   0.0  ...    0    0    0   \n",
      "\n",
      "     jul  jun  mar  may  nov  oct  sep  \n",
      "0      0    0    1    0    0    0    0  \n",
      "1      0    0    0    0    0    1    0  \n",
      "2      0    0    0    0    0    1    0  \n",
      "3      0    0    1    0    0    0    0  \n",
      "4      0    0    1    0    0    0    0  \n",
      "..   ...  ...  ...  ...  ...  ...  ...  \n",
      "512    0    0    0    0    0    0    0  \n",
      "513    0    0    0    0    0    0    0  \n",
      "514    0    0    0    0    0    0    0  \n",
      "515    0    0    0    0    0    0    0  \n",
      "516    0    0    0    0    1    0    0  \n",
      "\n",
      "[517 rows x 27 columns]\n"
     ]
    }
   ],
   "source": [
    "print(X)"
   ]
  },
  {
   "cell_type": "code",
   "execution_count": 13,
   "metadata": {},
   "outputs": [
    {
     "data": {
      "text/plain": [
       "-0.03615123111976004"
      ]
     },
     "execution_count": 13,
     "metadata": {},
     "output_type": "execute_result"
    }
   ],
   "source": [
    "clf.fit(X,y)\n",
    "\n",
    "clf.score(X,y)"
   ]
  },
  {
   "cell_type": "code",
   "execution_count": 14,
   "metadata": {},
   "outputs": [],
   "source": [
    "import pickle"
   ]
  },
  {
   "cell_type": "code",
   "execution_count": 15,
   "metadata": {},
   "outputs": [],
   "source": [
    "filename = 'finalized_model.sav'\n",
    "pickle.dump(clf, open(filename, 'wb'))"
   ]
  },
  {
   "cell_type": "code",
   "execution_count": 16,
   "metadata": {},
   "outputs": [],
   "source": [
    "filename = 'finalized_model.sav'\n",
    "loaded_model = pickle.load(open(filename, 'rb'))"
   ]
  },
  {
   "cell_type": "code",
   "execution_count": 17,
   "metadata": {},
   "outputs": [
    {
     "data": {
      "text/plain": [
       "-0.03615123111976004"
      ]
     },
     "execution_count": 17,
     "metadata": {},
     "output_type": "execute_result"
    }
   ],
   "source": [
    "loaded_model.score(X,y)"
   ]
  },
  {
   "cell_type": "code",
   "execution_count": 18,
   "metadata": {},
   "outputs": [],
   "source": [
    "from pathlib import Path"
   ]
  },
  {
   "cell_type": "code",
   "execution_count": null,
   "metadata": {},
   "outputs": [],
   "source": []
  },
  {
   "cell_type": "code",
   "execution_count": null,
   "metadata": {},
   "outputs": [],
   "source": []
  },
  {
   "cell_type": "code",
   "execution_count": 20,
   "metadata": {},
   "outputs": [],
   "source": [
    "with open(r\"C:\\Users\\romar\\Google Drive\\Master\\DE\\DE-group-5\\model\", 'wb') as f:\n",
    "    pickle.dump(clf, f)"
   ]
  },
  {
   "cell_type": "code",
   "execution_count": null,
   "metadata": {},
   "outputs": [],
   "source": []
  }
 ],
 "metadata": {
  "kernelspec": {
   "display_name": "Python 3",
   "language": "python",
   "name": "python3"
  },
  "language_info": {
   "codemirror_mode": {
    "name": "ipython",
    "version": 3
   },
   "file_extension": ".py",
   "mimetype": "text/x-python",
   "name": "python",
   "nbconvert_exporter": "python",
   "pygments_lexer": "ipython3",
   "version": "3.7.4"
  }
 },
 "nbformat": 4,
 "nbformat_minor": 4
}
