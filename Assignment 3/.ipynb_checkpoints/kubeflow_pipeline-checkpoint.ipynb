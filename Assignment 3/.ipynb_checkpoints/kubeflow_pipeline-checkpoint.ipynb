{
 "cells": [
  {
   "cell_type": "code",
   "execution_count": null,
   "metadata": {},
   "outputs": [],
   "source": [
    "import json\n",
    "import kfp\n",
    "import kfp.dsl as dsl\n",
    "import kfp.components as comp\n",
    "from kfp.components import OutputPath"
   ]
  },
  {
   "cell_type": "code",
   "execution_count": null,
   "metadata": {},
   "outputs": [],
   "source": [
    "# replace this value with the value of the KFP host name\n",
    "\n",
    "# Kubeflow Pipeline van TawabG (te vinden bij: GCP -> AI Platform -> Pipelines -> Open Pipelines Dashboard)\n",
    "KFP_HOST_NAME = 'https://24d258c79abedd32-dot-europe-west1.pipelines.googleusercontent.com/'\n",
    "\n",
    "# change caching policy of KFP run (useful in debug/dev mode)\n",
    "disable_cache = False\n",
    "# year from which to use the financial data\n",
    "year_from = 1990\n",
    "# number of latest days to holdout for validation\n",
    "holdout_days = 30\n",
    "# number of random iterations for random search hyperparameter optimization\n",
    "random_iterations = 3\n",
    "# Number of trees in random forest\n",
    "n_estimators = [150, 250, 300, 400]\n",
    "# Number of features to consider at every split\n",
    "max_features = ['sqrt']\n",
    "# Maximum number of levels in tree\n",
    "max_depth = [5, 10, 25]\n",
    "# Minimum number of samples required to split a node\n",
    "min_samples_split = [2, 3, 5, 10]\n",
    "# Minimum number of samples required at each leaf node\n",
    "min_samples_leaf = [1, 2, 4]\n",
    "# Method of selecting samples for training each tree\n",
    "bootstrap = [True]\n",
    "\n",
    "client = kfp.Client(host=KFP_HOST_NAME)"
   ]
  }
 ],
 "metadata": {
  "kernelspec": {
   "display_name": "Python 3",
   "language": "python",
   "name": "python3"
  },
  "language_info": {
   "codemirror_mode": {
    "name": "ipython",
    "version": 3
   },
   "file_extension": ".py",
   "mimetype": "text/x-python",
   "name": "python",
   "nbconvert_exporter": "python",
   "pygments_lexer": "ipython3",
   "version": "3.7.3"
  }
 },
 "nbformat": 4,
 "nbformat_minor": 2
}
