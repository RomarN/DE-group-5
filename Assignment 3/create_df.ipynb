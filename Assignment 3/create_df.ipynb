{
 "cells": [
  {
   "cell_type": "markdown",
   "metadata": {},
   "source": [
    "## API source: Goldapi.io\n",
    "### Gold: XAU index \n",
    "### Currency: EURO\n",
    "### Timespan: 01-01-2020 till 20-11-2020 = 324 days\n"
   ]
  },
  {
   "cell_type": "code",
   "execution_count": null,
   "metadata": {},
   "outputs": [],
   "source": [
    "# API key (TawabG)\n",
    "API_KEY = 'goldapi-rnmc2ukhqm7vnk-io'"
   ]
  },
  {
   "cell_type": "code",
   "execution_count": null,
   "metadata": {},
   "outputs": [],
   "source": [
    "import ast\n",
    "import json\n",
    "import http.client\n",
    "import mimetypes\n",
    "import pandas as pd\n",
    "import requests\n",
    "from datetime import date, timedelta"
   ]
  },
  {
   "cell_type": "code",
   "execution_count": null,
   "metadata": {},
   "outputs": [],
   "source": [
    "def make_api_call(API_KEY, date):\n",
    "    \n",
    "    conn = http.client.HTTPSConnection(\"www.goldapi.io\")\n",
    "    payload = ''\n",
    "    headers = {\n",
    "      'x-access-token': API_KEY,\n",
    "      'Content-Type': 'application/json'\n",
    "    }\n",
    "    conn.request(\"GET\", f\"/api/XAU/EUR/{date}\", payload, headers)\n",
    "    res = conn.getresponse()\n",
    "\n",
    "    return res.read()"
   ]
  },
  {
   "cell_type": "code",
   "execution_count": null,
   "metadata": {},
   "outputs": [],
   "source": [
    "# list of dates\n",
    "from datetime import date, timedelta\n",
    "\n",
    "sdate = date(2020, 1, 1)   # start date\n",
    "edate = date(2020, 11, 20)   # end date\n",
    "\n",
    "list_dates = pd.date_range(sdate,edate-timedelta(days=0),freq='d').strftime(\"%Y%m%d\").tolist()\n",
    "list_dates_int = list(map(int, list_dates))\n",
    "list_dates_int"
   ]
  },
  {
   "cell_type": "code",
   "execution_count": null,
   "metadata": {},
   "outputs": [],
   "source": [
    "result = []\n",
    "for dates in list_dates_int:\n",
    "    data = make_api_call(API_KEY, dates)\n",
    "    result.append(data.decode(\"utf-8\"))\n",
    "result"
   ]
  },
  {
   "cell_type": "code",
   "execution_count": null,
   "metadata": {},
   "outputs": [],
   "source": [
    "final_result = [json.loads(items) for items in result]"
   ]
  },
  {
   "cell_type": "code",
   "execution_count": null,
   "metadata": {},
   "outputs": [],
   "source": [
    "dataframe_gold = pd.DataFrame.from_dict(final_result)\n",
    "dataframe_gold = dataframe_gold.drop(labels='error', axis=1)\n",
    "dataframe_gold = dataframe_gold.dropna()\n",
    "dataframe_gold"
   ]
  },
  {
   "cell_type": "code",
   "execution_count": null,
   "metadata": {},
   "outputs": [],
   "source": [
    "dataframe_gold.to_csv(r'gold_dataset.csv', index = False)"
   ]
  }
 ],
 "metadata": {
  "environment": {
   "name": "common-cpu.m59",
   "type": "gcloud",
   "uri": "gcr.io/deeplearning-platform-release/base-cpu:m59"
  },
  "kernelspec": {
   "display_name": "Python 3",
   "language": "python",
   "name": "python3"
  },
  "language_info": {
   "codemirror_mode": {
    "name": "ipython",
    "version": 3
   },
   "file_extension": ".py",
   "mimetype": "text/x-python",
   "name": "python",
   "nbconvert_exporter": "python",
   "pygments_lexer": "ipython3",
   "version": "3.7.8"
  }
 },
 "nbformat": 4,
 "nbformat_minor": 4
}
